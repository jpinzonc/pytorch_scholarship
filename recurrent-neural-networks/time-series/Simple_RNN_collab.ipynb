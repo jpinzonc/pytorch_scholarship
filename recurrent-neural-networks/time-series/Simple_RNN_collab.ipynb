{
  "nbformat": 4,
  "nbformat_minor": 0,
  "metadata": {
    "colab": {
      "name": "Simple_RNN.ipynb",
      "version": "0.3.2",
      "provenance": []
    },
    "kernelspec": {
      "display_name": "Python 3",
      "language": "python",
      "name": "python3"
    }
  },
  "cells": [
    {
      "metadata": {
        "id": "Y9l9g3fGfgcR",
        "colab_type": "text"
      },
      "cell_type": "markdown",
      "source": [
        "# Simple RNN\n",
        "\n",
        "In ths notebook, we're going to train a simple RNN to do **time-series prediction**. Given some set of input data, it should be able to generate a prediction for the next time step!\n",
        "<img src='https://github.com/jpinzonc/example_smalltests/blob/master/recurrent-neural-networks/time-series/assets/time_prediction.png?raw=1' width=40% />\n",
        "\n",
        "> * First, we'll create our data\n",
        "* Then, define an RNN in PyTorch\n",
        "* Finally, we'll train our network and see how it performs"
      ]
    },
    {
      "metadata": {
        "id": "upcBMDz9fgcW",
        "colab_type": "text"
      },
      "cell_type": "markdown",
      "source": [
        "### Import resources and create data "
      ]
    },
    {
      "metadata": {
        "id": "W6RwTSDQfgcY",
        "colab_type": "code",
        "colab": {
          "base_uri": "https://localhost:8080/",
          "height": 785
        },
        "outputId": "adca69f6-ea4e-4120-bdc1-d67655f6243d"
      },
      "cell_type": "code",
      "source": [
        "!pip install torch, torchvision\n",
        "!pip install torchvision\n",
        "\n",
        "import torch\n",
        "from torch import nn\n",
        "import numpy as np\n",
        "import matplotlib.pyplot as plt\n",
        "%matplotlib inline"
      ],
      "execution_count": 3,
      "outputs": [
        {
          "output_type": "stream",
          "text": [
            "\u001b[31mInvalid requirement: 'torch,'\n",
            "Traceback (most recent call last):\n",
            "  File \"/usr/local/lib/python3.6/dist-packages/pip/_vendor/packaging/requirements.py\", line 93, in __init__\n",
            "    req = REQUIREMENT.parseString(requirement_string)\n",
            "  File \"/usr/local/lib/python3.6/dist-packages/pip/_vendor/pyparsing.py\", line 1654, in parseString\n",
            "    raise exc\n",
            "  File \"/usr/local/lib/python3.6/dist-packages/pip/_vendor/pyparsing.py\", line 1644, in parseString\n",
            "    loc, tokens = self._parse( instring, 0 )\n",
            "  File \"/usr/local/lib/python3.6/dist-packages/pip/_vendor/pyparsing.py\", line 1402, in _parseNoCache\n",
            "    loc,tokens = self.parseImpl( instring, preloc, doActions )\n",
            "  File \"/usr/local/lib/python3.6/dist-packages/pip/_vendor/pyparsing.py\", line 3417, in parseImpl\n",
            "    loc, exprtokens = e._parse( instring, loc, doActions )\n",
            "  File \"/usr/local/lib/python3.6/dist-packages/pip/_vendor/pyparsing.py\", line 1406, in _parseNoCache\n",
            "    loc,tokens = self.parseImpl( instring, preloc, doActions )\n",
            "  File \"/usr/local/lib/python3.6/dist-packages/pip/_vendor/pyparsing.py\", line 3205, in parseImpl\n",
            "    raise ParseException(instring, loc, self.errmsg, self)\n",
            "pip._vendor.pyparsing.ParseException: Expected stringEnd (at char 5), (line:1, col:6)\n",
            "\n",
            "During handling of the above exception, another exception occurred:\n",
            "\n",
            "Traceback (most recent call last):\n",
            "  File \"/usr/local/lib/python3.6/dist-packages/pip/_internal/req/constructors.py\", line 253, in install_req_from_line\n",
            "    req = Requirement(req)\n",
            "  File \"/usr/local/lib/python3.6/dist-packages/pip/_vendor/packaging/requirements.py\", line 96, in __init__\n",
            "    requirement_string[e.loc:e.loc + 8], e.msg\n",
            "pip._vendor.packaging.requirements.InvalidRequirement: Parse error at \"','\": Expected stringEnd\n",
            "\u001b[0m\n",
            "Collecting torchvision\n",
            "\u001b[?25l  Downloading https://files.pythonhosted.org/packages/ca/0d/f00b2885711e08bd71242ebe7b96561e6f6d01fdb4b9dcf4d37e2e13c5e1/torchvision-0.2.1-py2.py3-none-any.whl (54kB)\n",
            "\u001b[K    100% |████████████████████████████████| 61kB 3.8MB/s \n",
            "\u001b[?25hRequirement already satisfied: numpy in /usr/local/lib/python3.6/dist-packages (from torchvision) (1.14.6)\n",
            "Collecting torch (from torchvision)\n",
            "\u001b[?25l  Downloading https://files.pythonhosted.org/packages/49/0e/e382bcf1a6ae8225f50b99cc26effa2d4cc6d66975ccf3fa9590efcbedce/torch-0.4.1-cp36-cp36m-manylinux1_x86_64.whl (519.5MB)\n",
            "\u001b[K    100% |████████████████████████████████| 519.5MB 24kB/s \n",
            "tcmalloc: large alloc 1073750016 bytes == 0x59404000 @  0x7f5cf0da52a4 0x591a07 0x5b5d56 0x502e9a 0x506859 0x502209 0x502f3d 0x506859 0x504c28 0x502540 0x502f3d 0x506859 0x504c28 0x502540 0x502f3d 0x506859 0x504c28 0x502540 0x502f3d 0x507641 0x502209 0x502f3d 0x506859 0x504c28 0x502540 0x502f3d 0x507641 0x504c28 0x502540 0x502f3d 0x507641\n",
            "\u001b[?25hRequirement already satisfied: six in /usr/local/lib/python3.6/dist-packages (from torchvision) (1.11.0)\n",
            "Collecting pillow>=4.1.1 (from torchvision)\n",
            "\u001b[?25l  Downloading https://files.pythonhosted.org/packages/62/94/5430ebaa83f91cc7a9f687ff5238e26164a779cca2ef9903232268b0a318/Pillow-5.3.0-cp36-cp36m-manylinux1_x86_64.whl (2.0MB)\n",
            "\u001b[K    100% |████████████████████████████████| 2.0MB 4.4MB/s \n",
            "\u001b[?25hInstalling collected packages: torch, pillow, torchvision\n",
            "  Found existing installation: Pillow 4.0.0\n",
            "    Uninstalling Pillow-4.0.0:\n",
            "      Successfully uninstalled Pillow-4.0.0\n",
            "Successfully installed pillow-5.3.0 torch-0.4.1 torchvision-0.2.1\n"
          ],
          "name": "stdout"
        }
      ]
    },
    {
      "metadata": {
        "id": "Lu_dAT-Ffgcc",
        "colab_type": "code",
        "colab": {
          "base_uri": "https://localhost:8080/",
          "height": 320
        },
        "outputId": "16a7ed5e-e1e2-4ed5-cc75-cebab49a352f"
      },
      "cell_type": "code",
      "source": [
        "plt.figure(figsize=(8,5))\n",
        "\n",
        "# how many time steps/data pts are in one batch of data\n",
        "seq_length = 20\n",
        "\n",
        "# generate evenly spaced data pts\n",
        "time_steps = np.linspace(0, np.pi, seq_length + 1)\n",
        "data = np.sin(time_steps)\n",
        "data.resize((seq_length + 1, 1)) # size becomes (seq_length+1, 1), adds an input_size dimension\n",
        "\n",
        "x = data[:-1] # all but the last piece of data\n",
        "y = data[1:] # all but the first\n",
        "\n",
        "# display the data\n",
        "plt.plot(time_steps[1:], x, 'r.', label='input, x') # x\n",
        "plt.plot(time_steps[1:], y, 'b.', label='target, y') # y\n",
        "\n",
        "plt.legend(loc='best')\n",
        "plt.show()"
      ],
      "execution_count": 4,
      "outputs": [
        {
          "output_type": "display_data",
          "data": {
            "image/png": "[encoded data removed]",
            "text/plain": [
              "<matplotlib.figure.Figure at 0x7fe925df3438>"
            ]
          },
          "metadata": {
            "tags": []
          }
        }
      ]
    },
    {
      "metadata": {
        "id": "AlaxmQxVfgcj",
        "colab_type": "text"
      },
      "cell_type": "markdown",
      "source": [
        "---\n",
        "## Define the RNN\n",
        "\n",
        "Next, we define an RNN in PyTorch. We'll use `nn.RNN` to create an RNN layer, then we'll add a last, fully-connected layer to get the output size that we want. An RNN takes in a number of parameters:\n",
        "* **input_size** - the size of the input\n",
        "* **hidden_dim** - the number of features in the RNN output and in the hidden state\n",
        "* **n_layers** - the number of layers that make up the RNN, typically 1-3; greater than 1 means that you'll create a stacked RNN\n",
        "* **batch_first** - whether or not the input/output of the RNN will have the batch_size as the first dimension (batch_size, seq_length, hidden_dim)\n",
        "\n",
        "Take a look at the [RNN documentation](https://pytorch.org/docs/stable/nn.html#rnn) to read more about recurrent layers."
      ]
    },
    {
      "metadata": {
        "id": "0TC5MSAefgck",
        "colab_type": "code",
        "colab": {}
      },
      "cell_type": "code",
      "source": [
        "class RNN(nn.Module):\n",
        "    def __init__(self, input_size, output_size, hidden_dim, n_layers):\n",
        "        super(RNN, self).__init__()\n",
        "        \n",
        "        self.hidden_dim=hidden_dim\n",
        "\n",
        "        # define an RNN with specified parameters\n",
        "        # batch_first means that the first dim of the input and output will be the batch_size\n",
        "        self.rnn = nn.RNN(input_size, hidden_dim, n_layers, batch_first=True)\n",
        "        \n",
        "        # last, fully-connected layer\n",
        "        self.fc = nn.Linear(hidden_dim, output_size)\n",
        "\n",
        "    def forward(self, x, hidden):\n",
        "        # x (batch_size, seq_length, input_size)\n",
        "        # hidden (n_layers, batch_size, hidden_dim)\n",
        "        # r_out (batch_size, time_step, hidden_size)\n",
        "        batch_size = x.size(0)\n",
        "        \n",
        "        # get RNN outputs\n",
        "        r_out, hidden = self.rnn(x, hidden)\n",
        "        # shape output to be (batch_size*seq_length, hidden_dim)\n",
        "        r_out = r_out.view(-1, self.hidden_dim)  \n",
        "        \n",
        "        # get final output \n",
        "        output = self.fc(r_out)\n",
        "        \n",
        "        return output, hidden\n"
      ],
      "execution_count": 0,
      "outputs": []
    },
    {
      "metadata": {
        "id": "DrKiv_Ezfgcp",
        "colab_type": "text"
      },
      "cell_type": "markdown",
      "source": [
        "### Check the input and output dimensions\n",
        "\n",
        "As a check that your model is working as expected, test out how it responds to input data."
      ]
    },
    {
      "metadata": {
        "id": "xgt7Qg9vfgcq",
        "colab_type": "code",
        "colab": {
          "base_uri": "https://localhost:8080/",
          "height": 68
        },
        "outputId": "1899db9f-c19c-47ac-86ce-d21bbf1350ed"
      },
      "cell_type": "code",
      "source": [
        "# test that dimensions are as expected\n",
        "test_rnn = RNN(input_size=1, output_size=1, hidden_dim=10, n_layers=2)\n",
        "\n",
        "# generate evenly spaced, test data pts\n",
        "time_steps = np.linspace(0, np.pi, seq_length)\n",
        "data = np.sin(time_steps)\n",
        "data.resize((seq_length, 1))\n",
        "\n",
        "test_input = torch.Tensor(data).unsqueeze(0) # give it a batch_size of 1 as first dimension\n",
        "print('Input size: ', test_input.size())\n",
        "\n",
        "# test out rnn sizes\n",
        "test_out, test_h = test_rnn(test_input, None)\n",
        "print('Output size: ', test_out.size())\n",
        "print('Hidden state size: ', test_h.size())"
      ],
      "execution_count": 6,
      "outputs": [
        {
          "output_type": "stream",
          "text": [
            "Input size:  torch.Size([1, 20, 1])\n",
            "Output size:  torch.Size([20, 1])\n",
            "Hidden state size:  torch.Size([2, 1, 10])\n"
          ],
          "name": "stdout"
        }
      ]
    },
    {
      "metadata": {
        "id": "d7M51GR0fgcu",
        "colab_type": "text"
      },
      "cell_type": "markdown",
      "source": [
        "---\n",
        "## Training the RNN\n",
        "\n",
        "Next, we'll instantiate an RNN with some specified hyperparameters. Then train it over a series of steps, and see how it performs."
      ]
    },
    {
      "metadata": {
        "id": "BArx56zYfgcv",
        "colab_type": "code",
        "colab": {
          "base_uri": "https://localhost:8080/",
          "height": 85
        },
        "outputId": "084d080a-3bcf-44ad-baaa-0c058b885811"
      },
      "cell_type": "code",
      "source": [
        "# decide on hyperparameters\n",
        "input_size = 1 \n",
        "output_size = 1\n",
        "hidden_dim = 32\n",
        "n_layers = 1\n",
        "\n",
        "# instantiate an RNN\n",
        "rnn = RNN(input_size, output_size, hidden_dim, n_layers)\n",
        "print(rnn)"
      ],
      "execution_count": 15,
      "outputs": [
        {
          "output_type": "stream",
          "text": [
            "RNN(\n",
            "  (rnn): RNN(1, 32, batch_first=True)\n",
            "  (fc): Linear(in_features=32, out_features=1, bias=True)\n",
            ")\n"
          ],
          "name": "stdout"
        }
      ]
    },
    {
      "metadata": {
        "id": "_vakuMNLfgc0",
        "colab_type": "text"
      },
      "cell_type": "markdown",
      "source": [
        "### Loss and Optimization\n",
        "\n",
        "This is a regression problem: can we train an RNN to accurately predict the next data point, given a current data point?\n",
        "\n",
        ">* The data points are coordinate values, so to compare a predicted and ground_truth point, we'll use a regression loss: the mean squared error.\n",
        "* It's typical to use an Adam optimizer for recurrent models."
      ]
    },
    {
      "metadata": {
        "id": "pSK8ixaafgc1",
        "colab_type": "code",
        "colab": {}
      },
      "cell_type": "code",
      "source": [
        "# MSE loss and Adam optimizer with a learning rate of 0.01\n",
        "criterion = nn.MSELoss()\n",
        "optimizer = torch.optim.Adam(rnn.parameters(), lr=0.01) "
      ],
      "execution_count": 0,
      "outputs": []
    },
    {
      "metadata": {
        "id": "5cOWTlRJfgc5",
        "colab_type": "text"
      },
      "cell_type": "markdown",
      "source": [
        "### Defining the training function\n",
        "\n",
        "This function takes in an rnn, a number of steps to train for, and returns a trained rnn. This function is also responsible for displaying the loss and the predictions, every so often.\n",
        "\n",
        "#### Hidden State\n",
        "\n",
        "Pay close attention to the hidden state, here:\n",
        "* Before looping over a batch of training data, the hidden state is initialized\n",
        "* After a new hidden state is generated by the rnn, we get the latest hidden state, and use that as input to the rnn for the following steps"
      ]
    },
    {
      "metadata": {
        "id": "nluboYGzfgc6",
        "colab_type": "code",
        "colab": {}
      },
      "cell_type": "code",
      "source": [
        "# train the RNN\n",
        "def train(rnn, n_steps, print_every):\n",
        "    \n",
        "    # initialize the hidden state\n",
        "    hidden = None      \n",
        "    \n",
        "    for batch_i, step in enumerate(range(n_steps)):\n",
        "        # defining the training data \n",
        "        time_steps = np.linspace(step * np.pi, (step+1)*np.pi, seq_length + 1)\n",
        "        data = np.sin(time_steps)\n",
        "        data.resize((seq_length + 1, 1)) # input_size=1\n",
        "\n",
        "        x = data[:-1]\n",
        "        y = data[1:]\n",
        "        \n",
        "        # convert data into Tensors\n",
        "        x_tensor = torch.Tensor(x).unsqueeze(0) # unsqueeze gives a 1, batch_size dimension\n",
        "        y_tensor = torch.Tensor(y)\n",
        "\n",
        "        # outputs from the rnn\n",
        "        prediction, hidden = rnn(x_tensor, hidden)\n",
        "\n",
        "        ## Representing Memory ##\n",
        "        # make a new variable for hidden and detach the hidden state from its history\n",
        "        # this way, we don't backpropagate through the entire history\n",
        "        hidden = hidden.data\n",
        "\n",
        "        # calculate the loss\n",
        "        loss = criterion(prediction, y_tensor)\n",
        "        # zero gradients\n",
        "        optimizer.zero_grad()\n",
        "        # perform backprop and update weights\n",
        "        loss.backward()\n",
        "        optimizer.step()\n",
        "\n",
        "        # display loss and predictions\n",
        "        if batch_i%print_every == 0:        \n",
        "            print('Loss: ', loss.item())\n",
        "            plt.plot(time_steps[1:], x, 'r.') # input\n",
        "            plt.plot(time_steps[1:], prediction.data.numpy().flatten(), 'b.') # predictions\n",
        "            plt.show()\n",
        "    \n",
        "    return rnn\n"
      ],
      "execution_count": 0,
      "outputs": []
    },
    {
      "metadata": {
        "id": "BqbdmMORfgc9",
        "colab_type": "code",
        "colab": {
          "base_uri": "https://localhost:8080/",
          "height": 2137
        },
        "outputId": "9179be3f-5e4a-40c8-bb3d-544079a7bb31"
      },
      "cell_type": "code",
      "source": [
        "# train the rnn and monitor results\n",
        "n_steps = 200\n",
        "print_every = 25\n",
        "\n",
        "trained_rnn = train(rnn, n_steps, print_every)"
      ],
      "execution_count": 19,
      "outputs": [
        {
          "output_type": "stream",
          "text": [
            "Loss:  0.001295207068324089\n"
          ],
          "name": "stdout"
        },
        {
          "output_type": "display_data",
          "data": {
            "image/png": "[encoded data removed]",
            "text/plain": [
              "<matplotlib.figure.Figure at 0x7fe97bceafd0>"
            ]
          },
          "metadata": {
            "tags": []
          }
        },
        {
          "output_type": "stream",
          "text": [
            "Loss:  0.00010706004104577005\n"
          ],
          "name": "stdout"
        },
        {
          "output_type": "display_data",
          "data": {
            "image/png": "[encoded data removed]",
            "text/plain": [
              "<matplotlib.figure.Figure at 0x7fe925dc4160>"
            ]
          },
          "metadata": {
            "tags": []
          }
        },
        {
          "output_type": "stream",
          "text": [
            "Loss:  0.0001367492659483105\n"
          ],
          "name": "stdout"
        },
        {
          "output_type": "display_data",
          "data": {
            "image/png": "[encoded data removed]",
            "text/plain": [
              "<matplotlib.figure.Figure at 0x7fe922c18e48>"
            ]
          },
          "metadata": {
            "tags": []
          }
        },
        {
          "output_type": "stream",
          "text": [
            "Loss:  1.975516352104023e-05\n"
          ],
          "name": "stdout"
        },
        {
          "output_type": "display_data",
          "data": {
            "image/png": "[encoded data removed]",
            "text/plain": [
              "<matplotlib.figure.Figure at 0x7fe925db8668>"
            ]
          },
          "metadata": {
            "tags": []
          }
        },
        {
          "output_type": "stream",
          "text": [
            "Loss:  1.2664853556998423e-06\n"
          ],
          "name": "stdout"
        },
        {
          "output_type": "display_data",
          "data": {
            "image/png": "[encoded data removed]",
            "text/plain": [
              "<matplotlib.figure.Figure at 0x7fe922c4e940>"
            ]
          },
          "metadata": {
            "tags": []
          }
        },
        {
          "output_type": "stream",
          "text": [
            "Loss:  1.5081106994330185e-06\n"
          ],
          "name": "stdout"
        },
        {
          "output_type": "display_data",
          "data": {
            "image/png": "[encoded data removed]",
            "text/plain": [
              "<matplotlib.figure.Figure at 0x7fe9228d2898>"
            ]
          },
          "metadata": {
            "tags": []
          }
        },
        {
          "output_type": "stream",
          "text": [
            "Loss:  8.534119046998967e-07\n"
          ],
          "name": "stdout"
        },
        {
          "output_type": "display_data",
          "data": {
            "image/png": "[encoded data removed]",
            "text/plain": [
              "<matplotlib.figure.Figure at 0x7fe922c96438>"
            ]
          },
          "metadata": {
            "tags": []
          }
        },
        {
          "output_type": "stream",
          "text": [
            "Loss:  1.6046798236857285e-06\n"
          ],
          "name": "stdout"
        },
        {
          "output_type": "display_data",
          "data": {
            "image/png": "[encoded data removed]",
            "text/plain": [
              "<matplotlib.figure.Figure at 0x7fe92350b240>"
            ]
          },
          "metadata": {
            "tags": []
          }
        }
      ]
    },
    {
      "metadata": {
        "id": "-tlJBhd4fgdB",
        "colab_type": "text"
      },
      "cell_type": "markdown",
      "source": [
        "### Time-Series Prediction\n",
        "\n",
        "Time-series prediction can be applied to many tasks. Think about weather forecasting or predicting the ebb and flow of stock market prices. You can even try to generate predictions much further in the future than just one time step!"
      ]
    },
    {
      "metadata": {
        "id": "oBeHZwIdfgdD",
        "colab_type": "code",
        "colab": {}
      },
      "cell_type": "code",
      "source": [
        ""
      ],
      "execution_count": 0,
      "outputs": []
    }
  ]
}