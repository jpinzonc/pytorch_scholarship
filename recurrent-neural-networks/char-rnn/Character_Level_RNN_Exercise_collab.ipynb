{
  "nbformat": 4,
  "nbformat_minor": 0,
  "metadata": {
    "colab": {
      "name": "Character_Level_RNN_Exercise.ipynb",
      "version": "0.3.2",
      "provenance": [],
      "toc_visible": true
    },
    "kernelspec": {
      "name": "python3",
      "display_name": "Python 3"
    },
    "accelerator": "GPU"
  },
  "cells": [
    {
      "metadata": {
        "id": "C88koRx3h9Rh",
        "colab_type": "text"
      },
      "cell_type": "markdown",
      "source": [
        "# Character-Level LSTM in PyTorch\n",
        "\n",
        "In this notebook, I'll construct a character-level LSTM with PyTorch. The network will train character by character on some text, then generate new text character by character. As an example, I will train on Anna Karenina. **This model will be able to generate new text based on the text from the book!**\n",
        "\n",
        "This network is based off of Andrej Karpathy's [post on RNNs](http://karpathy.github.io/2015/05/21/rnn-effectiveness/) and [implementation in Torch](https://github.com/karpathy/char-rnn). Below is the general architecture of the character-wise RNN.\n",
        "\n",
        "<img src=\"https://github.com/jpinzonc/example_smalltests/blob/master/recurrent-neural-networks/char-rnn/assets/charseq.jpeg?raw=1\" width=\"500\">"
      ]
    },
    {
      "metadata": {
        "id": "Lm2-ngf7iAhr",
        "colab_type": "code",
        "colab": {
          "base_uri": "https://localhost:8080/",
          "height": 224
        },
        "outputId": "e5e3c09f-00d5-4d3f-fc8d-6f1e0d3c5733"
      },
      "cell_type": "code",
      "source": [
        "!pip install torch\n",
        "!pip install torchvision\n",
        "!pip install --no-cache-dir -I pillow"
      ],
      "execution_count": 1,
      "outputs": [
        {
          "output_type": "stream",
          "text": [
            "Requirement already satisfied: torch in /usr/local/lib/python3.6/dist-packages (0.4.1)\n",
            "Requirement already satisfied: torchvision in /usr/local/lib/python3.6/dist-packages (0.2.1)\n",
            "Requirement already satisfied: torch in /usr/local/lib/python3.6/dist-packages (from torchvision) (0.4.1)\n",
            "Requirement already satisfied: pillow>=4.1.1 in /usr/local/lib/python3.6/dist-packages (from torchvision) (5.3.0)\n",
            "Requirement already satisfied: numpy in /usr/local/lib/python3.6/dist-packages (from torchvision) (1.14.6)\n",
            "Requirement already satisfied: six in /usr/local/lib/python3.6/dist-packages (from torchvision) (1.11.0)\n",
            "Collecting pillow\n",
            "\u001b[?25l  Downloading https://files.pythonhosted.org/packages/62/94/5430ebaa83f91cc7a9f687ff5238e26164a779cca2ef9903232268b0a318/Pillow-5.3.0-cp36-cp36m-manylinux1_x86_64.whl (2.0MB)\n",
            "\u001b[K    100% |████████████████████████████████| 2.0MB 50.4MB/s \n",
            "\u001b[?25hInstalling collected packages: pillow\n",
            "Successfully installed pillow-5.3.0\n"
          ],
          "name": "stdout"
        }
      ]
    },
    {
      "metadata": {
        "id": "38HkBrrTh9Rl",
        "colab_type": "text"
      },
      "cell_type": "markdown",
      "source": [
        "First let's load in our required resources for data loading and model creation."
      ]
    },
    {
      "metadata": {
        "id": "6ZpSpxKch9Ro",
        "colab_type": "code",
        "colab": {}
      },
      "cell_type": "code",
      "source": [
        "import numpy as np\n",
        "import torch\n",
        "from torch import nn\n",
        "import torch.nn.functional as F"
      ],
      "execution_count": 0,
      "outputs": []
    },
    {
      "metadata": {
        "id": "RZj8MqMbh9Rs",
        "colab_type": "text"
      },
      "cell_type": "markdown",
      "source": [
        "## Load in Data\n",
        "\n",
        "Then, we'll load the Anna Karenina text file and convert it into integers for our network to use. "
      ]
    },
    {
      "metadata": {
        "id": "gU16L4uih9Rt",
        "colab_type": "code",
        "colab": {}
      },
      "cell_type": "code",
      "source": [
        "# open text file and read in data as `text`\n",
        "with open('anna.txt', 'r') as f:\n",
        "    text = f.read()"
      ],
      "execution_count": 0,
      "outputs": []
    },
    {
      "metadata": {
        "id": "16IdgfBZh9Rw",
        "colab_type": "text"
      },
      "cell_type": "markdown",
      "source": [
        "Let's check out the first 100 characters, make sure everything is peachy. According to the [American Book Review](http://americanbookreview.org/100bestlines.asp), this is the 6th best first line of a book ever."
      ]
    },
    {
      "metadata": {
        "collapsed": true,
        "id": "DeudiqyZh9Rx",
        "colab_type": "code",
        "colab": {
          "base_uri": "https://localhost:8080/",
          "height": 34
        },
        "outputId": "f4c42189-3ca3-4c5d-9a8b-870eeff66c92"
      },
      "cell_type": "code",
      "source": [
        "text[:100]"
      ],
      "execution_count": 4,
      "outputs": [
        {
          "output_type": "execute_result",
          "data": {
            "text/plain": [
              "'Chapter 1\\n\\n\\nHappy families are all alike; every unhappy family is unhappy in its own\\nway.\\n\\nEverythin'"
            ]
          },
          "metadata": {
            "tags": []
          },
          "execution_count": 4
        }
      ]
    },
    {
      "metadata": {
        "id": "OaBgqF5Jh9R3",
        "colab_type": "text"
      },
      "cell_type": "markdown",
      "source": [
        "### Tokenization\n",
        "\n",
        "In the cells, below, I'm creating a couple **dictionaries** to convert the characters to and from integers. Encoding the characters as integers makes it easier to use as input in the network."
      ]
    },
    {
      "metadata": {
        "id": "5RDdezudh9R4",
        "colab_type": "code",
        "colab": {}
      },
      "cell_type": "code",
      "source": [
        "# encode the text and map each character to an integer and vice versa\n",
        "\n",
        "# we create two dictionaries:\n",
        "# 1. int2char, which maps integers to characters\n",
        "# 2. char2int, which maps characters to unique integers\n",
        "chars = tuple(set(text))\n",
        "int2char = dict(enumerate(chars))\n",
        "char2int = {ch: ii for ii, ch in int2char.items()}\n",
        "\n",
        "# encode the text\n",
        "encoded = np.array([char2int[ch] for ch in text])"
      ],
      "execution_count": 0,
      "outputs": []
    },
    {
      "metadata": {
        "id": "mN0bgcX-h9R7",
        "colab_type": "text"
      },
      "cell_type": "markdown",
      "source": [
        "And we can see those same characters from above, encoded as integers."
      ]
    },
    {
      "metadata": {
        "collapsed": true,
        "id": "XFFqmH51h9R8",
        "colab_type": "code",
        "colab": {
          "base_uri": "https://localhost:8080/",
          "height": 119
        },
        "outputId": "3edc8b6e-c3cc-4905-8b86-66f2ad365e0b"
      },
      "cell_type": "code",
      "source": [
        "encoded[:100]"
      ],
      "execution_count": 6,
      "outputs": [
        {
          "output_type": "execute_result",
          "data": {
            "text/plain": [
              "array([ 2, 74, 27, 45, 52, 26, 33, 13, 50, 25, 25, 25, 75, 27, 45, 45,  7,\n",
              "       13, 34, 27,  4, 78, 63, 78, 26, 10, 13, 27, 33, 26, 13, 27, 63, 63,\n",
              "       13, 27, 63, 78, 28, 26, 66, 13, 26, 43, 26, 33,  7, 13, 70, 49, 74,\n",
              "       27, 45, 45,  7, 13, 34, 27,  4, 78, 63,  7, 13, 78, 10, 13, 70, 49,\n",
              "       74, 27, 45, 45,  7, 13, 78, 49, 13, 78, 52, 10, 13, 23, 64, 49, 25,\n",
              "       64, 27,  7, 37, 25, 25, 51, 43, 26, 33,  7, 52, 74, 78, 49])"
            ]
          },
          "metadata": {
            "tags": []
          },
          "execution_count": 6
        }
      ]
    },
    {
      "metadata": {
        "id": "Pb4UXZ30h9SA",
        "colab_type": "text"
      },
      "cell_type": "markdown",
      "source": [
        "## Pre-processing the data\n",
        "\n",
        "As you can see in our char-RNN image above, our LSTM expects an input that is **one-hot encoded** meaning that each character is converted into an integer (via our created dictionary) and *then* converted into a column vector where only it's corresponding integer index will have the value of 1 and the rest of the vector will be filled with 0's. Since we're one-hot encoding the data, let's make a function to do that!\n"
      ]
    },
    {
      "metadata": {
        "id": "Ww8gbGCsh9SC",
        "colab_type": "code",
        "colab": {}
      },
      "cell_type": "code",
      "source": [
        "def one_hot_encode(arr, n_labels):\n",
        "    \n",
        "    # Initialize the the encoded array\n",
        "    one_hot = np.zeros((np.multiply(*arr.shape), n_labels), dtype=np.float32)\n",
        "    \n",
        "    # Fill the appropriate elements with ones\n",
        "    one_hot[np.arange(one_hot.shape[0]), arr.flatten()] = 1.\n",
        "    \n",
        "    # Finally reshape it to get back to the original array\n",
        "    one_hot = one_hot.reshape((*arr.shape, n_labels))\n",
        "    \n",
        "    return one_hot"
      ],
      "execution_count": 0,
      "outputs": []
    },
    {
      "metadata": {
        "collapsed": true,
        "id": "NVKVxhUEh9SI",
        "colab_type": "code",
        "colab": {
          "base_uri": "https://localhost:8080/",
          "height": 68
        },
        "outputId": "b4a5ac82-5718-4a0d-ac41-6ad2e49146c1"
      },
      "cell_type": "code",
      "source": [
        "# check that the function works as expected\n",
        "test_seq = np.array([[3, 5, 1]])\n",
        "one_hot = one_hot_encode(test_seq, 8)\n",
        "\n",
        "print(one_hot)"
      ],
      "execution_count": 8,
      "outputs": [
        {
          "output_type": "stream",
          "text": [
            "[[[0. 0. 0. 1. 0. 0. 0. 0.]\n",
            "  [0. 0. 0. 0. 0. 1. 0. 0.]\n",
            "  [0. 1. 0. 0. 0. 0. 0. 0.]]]\n"
          ],
          "name": "stdout"
        }
      ]
    },
    {
      "metadata": {
        "id": "fJaHAC5ph9SM",
        "colab_type": "text"
      },
      "cell_type": "markdown",
      "source": [
        "## Making training mini-batches\n",
        "\n",
        "\n",
        "To train on this data, we also want to create mini-batches for training. Remember that we want our batches to be multiple sequences of some desired number of sequence steps. Considering a simple example, our batches would look like this:\n",
        "\n",
        "<img src=\"https://github.com/jpinzonc/example_smalltests/blob/master/recurrent-neural-networks/char-rnn/assets/sequence_batching@1x.png?raw=1\" width=500px>\n",
        "\n",
        "\n",
        "<br>\n",
        "\n",
        "In this example, we'll take the encoded characters (passed in as the `arr` parameter) and split them into multiple sequences, given by `batch_size`. Each of our sequences will be `seq_length` long.\n",
        "\n",
        "### Creating Batches\n",
        "\n",
        "**1. The first thing we need to do is discard some of the text so we only have completely full mini-batches. **\n",
        "\n",
        "Each batch contains $N \\times M$ characters, where $N$ is the batch size (the number of sequences in a batch) and $M$ is the seq_length or number of time steps in a sequence. Then, to get the total number of batches, $K$, that we can make from the array `arr`, you divide the length of `arr` by the number of characters per batch. Once you know the number of batches, you can get the total number of characters to keep from `arr`, $N * M * K$.\n",
        "\n",
        "**2. After that, we need to split `arr` into $N$ batches. ** \n",
        "\n",
        "You can do this using `arr.reshape(size)` where `size` is a tuple containing the dimensions sizes of the reshaped array. We know we want $N$ sequences in a batch, so let's make that the size of the first dimension. For the second dimension, you can use `-1` as a placeholder in the size, it'll fill up the array with the appropriate data for you. After this, you should have an array that is $N \\times (M * K)$.\n",
        "\n",
        "**3. Now that we have this array, we can iterate through it to get our mini-batches. **\n",
        "\n",
        "The idea is each batch is a $N \\times M$ window on the $N \\times (M * K)$ array. For each subsequent batch, the window moves over by `seq_length`. We also want to create both the input and target arrays. Remember that the targets are just the inputs shifted over by one character. The way I like to do this window is use `range` to take steps of size `n_steps` from $0$ to `arr.shape[1]`, the total number of tokens in each sequence. That way, the integers you get from `range` always point to the start of a batch, and each window is `seq_length` wide.\n",
        "\n",
        "> **TODO:** Write the code for creating batches in the function below. The exercises in this notebook _will not be easy_. I've provided a notebook with solutions alongside this notebook. If you get stuck, checkout the solutions. The most important thing is that you don't copy and paste the code into here, **type out the solution code yourself.**"
      ]
    },
    {
      "metadata": {
        "id": "pH0d8OVEh9SN",
        "colab_type": "code",
        "colab": {}
      },
      "cell_type": "code",
      "source": [
        "def get_batches(arr, batch_size, seq_length):\n",
        "    '''Create a generator that returns batches of size\n",
        "       batch_size x seq_length from arr.\n",
        "       \n",
        "       Arguments\n",
        "       ---------\n",
        "       arr: Array you want to make batches from\n",
        "       batch_size: Batch size, the number of sequences per batch\n",
        "       seq_length: Number of encoded chars in a sequence\n",
        "    '''\n",
        "    \n",
        "    batch_size_total = batch_size * seq_length\n",
        "    # total number of batches we can make\n",
        "    n_batches = len(arr)//batch_size_total\n",
        "    \n",
        "    # Keep only enough characters to make full batches\n",
        "    arr = arr[:n_batches * batch_size_total]\n",
        "    # Reshape into batch_size rows\n",
        "    arr = arr.reshape((batch_size, -1))\n",
        "    \n",
        "    # iterate through the array, one sequence at a time\n",
        "    for n in range(0, arr.shape[1], seq_length):\n",
        "        # The features\n",
        "        x = arr[:, n:n+seq_length]\n",
        "        # The targets, shifted by one\n",
        "        y = np.zeros_like(x)\n",
        "        try:\n",
        "            y[:, :-1], y[:, -1] = x[:, 1:], arr[:, n+seq_length]\n",
        "        except IndexError:\n",
        "            y[:, :-1], y[:, -1] = x[:, 1:], arr[:, 0]\n",
        "        yield x, y"
      ],
      "execution_count": 0,
      "outputs": []
    },
    {
      "metadata": {
        "id": "X0okb2iyh9SR",
        "colab_type": "text"
      },
      "cell_type": "markdown",
      "source": [
        "### Test Your Implementation\n",
        "\n",
        "Now I'll make some data sets and we can check out what's going on as we batch data. Here, as an example, I'm going to use a batch size of 8 and 50 sequence steps."
      ]
    },
    {
      "metadata": {
        "id": "_NDgzd02h9SR",
        "colab_type": "code",
        "colab": {}
      },
      "cell_type": "code",
      "source": [
        "batches = get_batches(encoded, 8, 50)\n",
        "x, y = next(batches)"
      ],
      "execution_count": 0,
      "outputs": []
    },
    {
      "metadata": {
        "collapsed": true,
        "id": "qOILNhZRh9SX",
        "colab_type": "code",
        "colab": {
          "base_uri": "https://localhost:8080/",
          "height": 340
        },
        "outputId": "6a224891-7196-4bc4-9166-78fddf05bf4d"
      },
      "cell_type": "code",
      "source": [
        "# printing out the first 10 items in a sequence\n",
        "print('x\\n', x[:10, :10])\n",
        "print('\\ny\\n', y[:10, :10])"
      ],
      "execution_count": 11,
      "outputs": [
        {
          "output_type": "stream",
          "text": [
            "x\n",
            " [[ 2 74 27 45 52 26 33 13 50 25]\n",
            " [10 23 49 13 52 74 27 52 13 27]\n",
            " [26 49 54 13 23 33 13 27 13 34]\n",
            " [10 13 52 74 26 13 79 74 78 26]\n",
            " [13 10 27 64 13 74 26 33 13 52]\n",
            " [79 70 10 10 78 23 49 13 27 49]\n",
            " [13 46 49 49 27 13 74 27 54 13]\n",
            " [ 3 11 63 23 49 10 28  7 37 13]]\n",
            "\n",
            "y\n",
            " [[74 27 45 52 26 33 13 50 25 25]\n",
            " [23 49 13 52 74 27 52 13 27 52]\n",
            " [49 54 13 23 33 13 27 13 34 23]\n",
            " [13 52 74 26 13 79 74 78 26 34]\n",
            " [10 27 64 13 74 26 33 13 52 26]\n",
            " [70 10 10 78 23 49 13 27 49 54]\n",
            " [46 49 49 27 13 74 27 54 13 10]\n",
            " [11 63 23 49 10 28  7 37 13 32]]\n"
          ],
          "name": "stdout"
        }
      ]
    },
    {
      "metadata": {
        "id": "UuTdTy_xh9Sc",
        "colab_type": "text"
      },
      "cell_type": "markdown",
      "source": [
        "If you implemented `get_batches` correctly, the above output should look something like \n",
        "```\n",
        "x\n",
        " [[25  8 60 11 45 27 28 73  1  2]\n",
        " [17  7 20 73 45  8 60 45 73 60]\n",
        " [27 20 80 73  7 28 73 60 73 65]\n",
        " [17 73 45  8 27 73 66  8 46 27]\n",
        " [73 17 60 12 73  8 27 28 73 45]\n",
        " [66 64 17 17 46  7 20 73 60 20]\n",
        " [73 76 20 20 60 73  8 60 80 73]\n",
        " [47 35 43  7 20 17 24 50 37 73]]\n",
        "\n",
        "y\n",
        " [[ 8 60 11 45 27 28 73  1  2  2]\n",
        " [ 7 20 73 45  8 60 45 73 60 45]\n",
        " [20 80 73  7 28 73 60 73 65  7]\n",
        " [73 45  8 27 73 66  8 46 27 65]\n",
        " [17 60 12 73  8 27 28 73 45 27]\n",
        " [64 17 17 46  7 20 73 60 20 80]\n",
        " [76 20 20 60 73  8 60 80 73 17]\n",
        " [35 43  7 20 17 24 50 37 73 36]]\n",
        " ```\n",
        " although the exact numbers may be different. Check to make sure the data is shifted over one step for `y`."
      ]
    },
    {
      "metadata": {
        "id": "XtAcLd7sh9Sd",
        "colab_type": "text"
      },
      "cell_type": "markdown",
      "source": [
        "---\n",
        "## Defining the network with PyTorch\n",
        "\n",
        "Below is where you'll define the network.\n",
        "\n",
        "<img src=\"https://github.com/jpinzonc/example_smalltests/blob/master/recurrent-neural-networks/char-rnn/assets/charRNN.png?raw=1\" width=500px>\n",
        "\n",
        "Next, you'll use PyTorch to define the architecture of the network. We start by defining the layers and operations we want. Then, define a method for the forward pass. You've also been given a method for predicting characters."
      ]
    },
    {
      "metadata": {
        "id": "kBT-AJtGh9Se",
        "colab_type": "text"
      },
      "cell_type": "markdown",
      "source": [
        "### Model Structure\n",
        "\n",
        "In `__init__` the suggested structure is as follows:\n",
        "* Create and store the necessary dictionaries (this has been done for you)\n",
        "* Define an LSTM layer that takes as params: an input size (the number of characters), a hidden layer size `n_hidden`, a number of layers `n_layers`, a dropout probability `drop_prob`, and a batch_first boolean (True, since we are batching)\n",
        "* Define a dropout layer with `dropout_prob`\n",
        "* Define a fully-connected layer with params: input size `n_hidden` and output size (the number of characters)\n",
        "* Finally, initialize the weights (again, this has been given)\n",
        "\n",
        "Note that some parameters have been named and given in the `__init__` function, and we use them and store them by doing something like `self.drop_prob = drop_prob`."
      ]
    },
    {
      "metadata": {
        "id": "XVYG8yawh9Sg",
        "colab_type": "text"
      },
      "cell_type": "markdown",
      "source": [
        "---\n",
        "### LSTM Inputs/Outputs\n",
        "\n",
        "You can create a basic [LSTM layer](https://pytorch.org/docs/stable/nn.html#lstm) as follows\n",
        "\n",
        "```python\n",
        "self.lstm = nn.LSTM(input_size, n_hidden, n_layers, \n",
        "                            dropout=drop_prob, batch_first=True)\n",
        "```\n",
        "\n",
        "where `input_size` is the number of characters this cell expects to see as sequential input, and `n_hidden` is the number of units in the hidden layers in the cell. And we can add dropout by adding a dropout parameter with a specified probability; this will automatically add dropout to the inputs or outputs. Finally, in the `forward` function, we can stack up the LSTM cells into layers using `.view`. With this, you pass in a list of cells and it will send the output of one cell into the next cell.\n",
        "\n",
        "We also need to create an initial hidden state of all zeros. This is done like so\n",
        "\n",
        "```python\n",
        "self.init_hidden()\n",
        "```"
      ]
    },
    {
      "metadata": {
        "collapsed": true,
        "id": "1hVQyu2Jh9Sh",
        "colab_type": "code",
        "colab": {
          "base_uri": "https://localhost:8080/",
          "height": 34
        },
        "outputId": "54973acb-9c07-488d-ee5b-7f364279aa39"
      },
      "cell_type": "code",
      "source": [
        "# check if GPU is available\n",
        "train_on_gpu = torch.cuda.is_available()\n",
        "if(train_on_gpu):\n",
        "    print('Training on GPU!')\n",
        "else: \n",
        "    print('No GPU available, training on CPU; consider making n_epochs very small.')"
      ],
      "execution_count": 12,
      "outputs": [
        {
          "output_type": "stream",
          "text": [
            "Training on GPU!\n"
          ],
          "name": "stdout"
        }
      ]
    },
    {
      "metadata": {
        "id": "lVH4J3dBh9Sm",
        "colab_type": "code",
        "colab": {}
      },
      "cell_type": "code",
      "source": [
        "class CharRNN(nn.Module):\n",
        "    \n",
        "    def __init__(self, tokens, n_hidden=256, n_layers=2,\n",
        "                               drop_prob=0.5, lr=0.001):\n",
        "        super().__init__()\n",
        "        self.drop_prob = drop_prob\n",
        "        self.n_layers = n_layers\n",
        "        self.n_hidden = n_hidden\n",
        "        self.lr = lr\n",
        "        \n",
        "        # creating character dictionaries\n",
        "        self.chars = tokens\n",
        "        self.int2char = dict(enumerate(self.chars))\n",
        "        self.char2int = {ch: ii for ii, ch in self.int2char.items()}\n",
        "        \n",
        "        ## TODO: define the LSTM\n",
        "        self.lstm = nn.LSTM(len(self.chars), n_hidden, n_layers, \n",
        "                            dropout=drop_prob, batch_first=True)\n",
        "        \n",
        "        ## TODO: define a dropout layer\n",
        "        self.dropout = nn.Dropout(drop_prob)\n",
        "        \n",
        "        ## TODO: define the final, fully-connected output layer\n",
        "        self.fc = nn.Linear(n_hidden, len(self.chars))\n",
        "      \n",
        "    \n",
        "    def forward(self, x, hidden):\n",
        "        ''' Forward pass through the network. \n",
        "            These inputs are x, and the hidden/cell state `hidden`. '''\n",
        "                \n",
        "        ## TODO: Get the outputs and the new hidden state from the lstm\n",
        "        r_output, hidden = self.lstm(x, hidden)\n",
        "        \n",
        "        ## TODO: pass through a dropout layer\n",
        "        out = self.dropout(r_output)\n",
        "        \n",
        "        # Stack up LSTM outputs using view\n",
        "        # you may need to use contiguous to reshape the output\n",
        "        out = out.contiguous().view(-1, self.n_hidden)\n",
        "        \n",
        "        ## TODO: put x through the fully-connected layer\n",
        "        out = self.fc(out)\n",
        "        \n",
        "        # return the final output and the hidden state\n",
        "        return out, hidden\n",
        "    \n",
        "    \n",
        "    def init_hidden(self, batch_size):\n",
        "        ''' Initializes hidden state '''\n",
        "        # Create two new tensors with sizes n_layers x batch_size x n_hidden,\n",
        "        # initialized to zero, for hidden state and cell state of LSTM\n",
        "        weight = next(self.parameters()).data\n",
        "        \n",
        "        if (train_on_gpu):\n",
        "            hidden = (weight.new(self.n_layers, batch_size, self.n_hidden).zero_().cuda(),\n",
        "                  weight.new(self.n_layers, batch_size, self.n_hidden).zero_().cuda())\n",
        "        else:\n",
        "            hidden = (weight.new(self.n_layers, batch_size, self.n_hidden).zero_(),\n",
        "                      weight.new(self.n_layers, batch_size, self.n_hidden).zero_())\n",
        "        \n",
        "        return hidden\n",
        "        "
      ],
      "execution_count": 0,
      "outputs": []
    },
    {
      "metadata": {
        "id": "FwQUFKbIh9Sx",
        "colab_type": "text"
      },
      "cell_type": "markdown",
      "source": [
        "## Time to train\n",
        "\n",
        "The train function gives us the ability to set the number of epochs, the learning rate, and other parameters.\n",
        "\n",
        "Below we're using an Adam optimizer and cross entropy loss since we are looking at character class scores as output. We calculate the loss and perform backpropagation, as usual!\n",
        "\n",
        "A couple of details about training: \n",
        ">* Within the batch loop, we detach the hidden state from its history; this time setting it equal to a new *tuple* variable because an LSTM has a hidden state that is a tuple of the hidden and cell states.\n",
        "* We use [`clip_grad_norm_`](https://pytorch.org/docs/stable/_modules/torch/nn/utils/clip_grad.html) to help prevent exploding gradients."
      ]
    },
    {
      "metadata": {
        "id": "-9bCah-ch9Sz",
        "colab_type": "code",
        "colab": {}
      },
      "cell_type": "code",
      "source": [
        "def train(net, data, epochs=10, batch_size=10, seq_length=50, lr=0.001, clip=5, val_frac=0.1, print_every=10):\n",
        "    ''' Training a network \n",
        "    \n",
        "        Arguments\n",
        "        ---------\n",
        "        \n",
        "        net: CharRNN network\n",
        "        data: text data to train the network\n",
        "        epochs: Number of epochs to train\n",
        "        batch_size: Number of mini-sequences per mini-batch, aka batch size\n",
        "        seq_length: Number of character steps per mini-batch\n",
        "        lr: learning rate\n",
        "        clip: gradient clipping\n",
        "        val_frac: Fraction of data to hold out for validation\n",
        "        print_every: Number of steps for printing training and validation loss\n",
        "    \n",
        "    '''\n",
        "    net.train()\n",
        "    \n",
        "    opt = torch.optim.Adam(net.parameters(), lr=lr)\n",
        "    criterion = nn.CrossEntropyLoss()\n",
        "    \n",
        "    # create training and validation data\n",
        "    val_idx = int(len(data)*(1-val_frac))\n",
        "    data, val_data = data[:val_idx], data[val_idx:]\n",
        "    \n",
        "    if(train_on_gpu):\n",
        "        net.cuda()\n",
        "    \n",
        "    counter = 0\n",
        "    n_chars = len(net.chars)\n",
        "    for e in range(epochs):\n",
        "        # initialize hidden state\n",
        "        h = net.init_hidden(batch_size)\n",
        "        \n",
        "        for x, y in get_batches(data, batch_size, seq_length):\n",
        "            counter += 1\n",
        "            \n",
        "            # One-hot encode our data and make them Torch tensors\n",
        "            x = one_hot_encode(x, n_chars)\n",
        "            inputs, targets = torch.from_numpy(x), torch.from_numpy(y)\n",
        "            \n",
        "            if(train_on_gpu):\n",
        "                inputs, targets = inputs.cuda(), targets.cuda()\n",
        "\n",
        "            # Creating new variables for the hidden state, otherwise\n",
        "            # we'd backprop through the entire training history\n",
        "            h = tuple([each.data for each in h])\n",
        "\n",
        "            # zero accumulated gradients\n",
        "            net.zero_grad()\n",
        "            \n",
        "            # get the output from the model\n",
        "            output, h = net(inputs, h)\n",
        "            \n",
        "            # calculate the loss and perform backprop\n",
        "            loss = criterion(output, targets.view(batch_size*seq_length))\n",
        "            loss.backward()\n",
        "            # `clip_grad_norm` helps prevent the exploding gradient problem in RNNs / LSTMs.\n",
        "            nn.utils.clip_grad_norm_(net.parameters(), clip)\n",
        "            opt.step()\n",
        "            \n",
        "            # loss stats\n",
        "            if counter % print_every == 0:\n",
        "                # Get validation loss\n",
        "                val_h = net.init_hidden(batch_size)\n",
        "                val_losses = []\n",
        "                net.eval()\n",
        "                for x, y in get_batches(val_data, batch_size, seq_length):\n",
        "                    # One-hot encode our data and make them Torch tensors\n",
        "                    x = one_hot_encode(x, n_chars)\n",
        "                    x, y = torch.from_numpy(x), torch.from_numpy(y)\n",
        "                    \n",
        "                    # Creating new variables for the hidden state, otherwise\n",
        "                    # we'd backprop through the entire training history\n",
        "                    val_h = tuple([each.data for each in val_h])\n",
        "                    \n",
        "                    inputs, targets = x, y\n",
        "                    if(train_on_gpu):\n",
        "                        inputs, targets = inputs.cuda(), targets.cuda()\n",
        "\n",
        "                    output, val_h = net(inputs, val_h)\n",
        "                    val_loss = criterion(output, targets.view(batch_size*seq_length))\n",
        "                \n",
        "                    val_losses.append(val_loss.item())\n",
        "                \n",
        "                net.train() # reset to train mode after iterationg through validation data\n",
        "                \n",
        "                print(\"Epoch: {}/{}...\".format(e+1, epochs),\n",
        "                      \"Step: {}...\".format(counter),\n",
        "                      \"Loss: {:.4f}...\".format(loss.item()),\n",
        "                      \"Val Loss: {:.4f}\".format(np.mean(val_losses)))"
      ],
      "execution_count": 0,
      "outputs": []
    },
    {
      "metadata": {
        "id": "K74zcXawh9S7",
        "colab_type": "text"
      },
      "cell_type": "markdown",
      "source": [
        "## Instantiating the model\n",
        "\n",
        "Now we can actually train the network. First we'll create the network itself, with some given hyperparameters. Then, define the mini-batches sizes, and start training!"
      ]
    },
    {
      "metadata": {
        "collapsed": true,
        "id": "i76x0v1Lh9S8",
        "colab_type": "code",
        "colab": {
          "base_uri": "https://localhost:8080/",
          "height": 102
        },
        "outputId": "3fc0bf71-96b9-460c-866a-f4f06f6b470e"
      },
      "cell_type": "code",
      "source": [
        "## TODO: set you model hyperparameters\n",
        "# define and print the net\n",
        "n_hidden=512\n",
        "n_layers=2\n",
        "\n",
        "net = CharRNN(chars, n_hidden, n_layers)\n",
        "print(net)"
      ],
      "execution_count": 15,
      "outputs": [
        {
          "output_type": "stream",
          "text": [
            "CharRNN(\n",
            "  (lstm): LSTM(83, 512, num_layers=2, batch_first=True, dropout=0.5)\n",
            "  (dropout): Dropout(p=0.5)\n",
            "  (fc): Linear(in_features=512, out_features=83, bias=True)\n",
            ")\n"
          ],
          "name": "stdout"
        }
      ]
    },
    {
      "metadata": {
        "id": "VhR4u17Jh9TA",
        "colab_type": "text"
      },
      "cell_type": "markdown",
      "source": [
        "### Set your training hyperparameters!"
      ]
    },
    {
      "metadata": {
        "collapsed": true,
        "scrolled": true,
        "id": "0D1z120lh9TE",
        "colab_type": "code",
        "colab": {
          "base_uri": "https://localhost:8080/",
          "height": 2380
        },
        "outputId": "9d8dfc7a-d30c-4f5a-a599-4d306fd0893d"
      },
      "cell_type": "code",
      "source": [
        "batch_size = 128\n",
        "seq_length = 100\n",
        "n_epochs =  10# start small if you are just testing initial behavior\n",
        "\n",
        "# train the model\n",
        "train(net, encoded, epochs=n_epochs, batch_size=batch_size, seq_length=seq_length, lr=0.001, print_every=10)"
      ],
      "execution_count": 16,
      "outputs": [
        {
          "output_type": "stream",
          "text": [
            "Epoch: 1/10... Step: 10... Loss: 3.2509... Val Loss: 3.1948\n",
            "Epoch: 1/10... Step: 20... Loss: 3.1481... Val Loss: 3.1342\n",
            "Epoch: 1/10... Step: 30... Loss: 3.1394... Val Loss: 3.1220\n",
            "Epoch: 1/10... Step: 40... Loss: 3.1160... Val Loss: 3.1207\n",
            "Epoch: 1/10... Step: 50... Loss: 3.1406... Val Loss: 3.1168\n",
            "Epoch: 1/10... Step: 60... Loss: 3.1190... Val Loss: 3.1151\n",
            "Epoch: 1/10... Step: 70... Loss: 3.1072... Val Loss: 3.1130\n",
            "Epoch: 1/10... Step: 80... Loss: 3.1199... Val Loss: 3.1071\n",
            "Epoch: 1/10... Step: 90... Loss: 3.1135... Val Loss: 3.0945\n",
            "Epoch: 1/10... Step: 100... Loss: 3.0808... Val Loss: 3.0680\n",
            "Epoch: 1/10... Step: 110... Loss: 3.0240... Val Loss: 3.0030\n",
            "Epoch: 1/10... Step: 120... Loss: 2.9017... Val Loss: 2.8977\n",
            "Epoch: 1/10... Step: 130... Loss: 2.8375... Val Loss: 2.8817\n",
            "Epoch: 2/10... Step: 140... Loss: 2.7441... Val Loss: 2.6901\n",
            "Epoch: 2/10... Step: 150... Loss: 2.6336... Val Loss: 2.5818\n",
            "Epoch: 2/10... Step: 160... Loss: 2.5602... Val Loss: 2.5175\n",
            "Epoch: 2/10... Step: 170... Loss: 2.4840... Val Loss: 2.4714\n",
            "Epoch: 2/10... Step: 180... Loss: 2.4574... Val Loss: 2.4363\n",
            "Epoch: 2/10... Step: 190... Loss: 2.4108... Val Loss: 2.3986\n",
            "Epoch: 2/10... Step: 200... Loss: 2.4071... Val Loss: 2.3825\n",
            "Epoch: 2/10... Step: 210... Loss: 2.3694... Val Loss: 2.3496\n",
            "Epoch: 2/10... Step: 220... Loss: 2.3407... Val Loss: 2.3154\n",
            "Epoch: 2/10... Step: 230... Loss: 2.3187... Val Loss: 2.2873\n",
            "Epoch: 2/10... Step: 240... Loss: 2.3010... Val Loss: 2.2638\n",
            "Epoch: 2/10... Step: 250... Loss: 2.2361... Val Loss: 2.2473\n",
            "Epoch: 2/10... Step: 260... Loss: 2.2183... Val Loss: 2.2129\n",
            "Epoch: 2/10... Step: 270... Loss: 2.2258... Val Loss: 2.1908\n",
            "Epoch: 3/10... Step: 280... Loss: 2.2203... Val Loss: 2.1771\n",
            "Epoch: 3/10... Step: 290... Loss: 2.1885... Val Loss: 2.1480\n",
            "Epoch: 3/10... Step: 300... Loss: 2.1589... Val Loss: 2.1280\n",
            "Epoch: 3/10... Step: 310... Loss: 2.1430... Val Loss: 2.1121\n",
            "Epoch: 3/10... Step: 320... Loss: 2.1062... Val Loss: 2.0930\n",
            "Epoch: 3/10... Step: 330... Loss: 2.0738... Val Loss: 2.0760\n",
            "Epoch: 3/10... Step: 340... Loss: 2.0953... Val Loss: 2.0548\n",
            "Epoch: 3/10... Step: 350... Loss: 2.0777... Val Loss: 2.0379\n",
            "Epoch: 3/10... Step: 360... Loss: 2.0033... Val Loss: 2.0188\n",
            "Epoch: 3/10... Step: 370... Loss: 2.0358... Val Loss: 2.0010\n",
            "Epoch: 3/10... Step: 380... Loss: 2.0107... Val Loss: 1.9851\n",
            "Epoch: 3/10... Step: 390... Loss: 1.9890... Val Loss: 1.9701\n",
            "Epoch: 3/10... Step: 400... Loss: 1.9553... Val Loss: 1.9578\n",
            "Epoch: 3/10... Step: 410... Loss: 1.9737... Val Loss: 1.9402\n",
            "Epoch: 4/10... Step: 420... Loss: 1.9570... Val Loss: 1.9238\n",
            "Epoch: 4/10... Step: 430... Loss: 1.9427... Val Loss: 1.9111\n",
            "Epoch: 4/10... Step: 440... Loss: 1.9331... Val Loss: 1.9002\n",
            "Epoch: 4/10... Step: 450... Loss: 1.8632... Val Loss: 1.8821\n",
            "Epoch: 4/10... Step: 460... Loss: 1.8604... Val Loss: 1.8700\n",
            "Epoch: 4/10... Step: 470... Loss: 1.8900... Val Loss: 1.8624\n",
            "Epoch: 4/10... Step: 480... Loss: 1.8723... Val Loss: 1.8499\n",
            "Epoch: 4/10... Step: 490... Loss: 1.8731... Val Loss: 1.8348\n",
            "Epoch: 4/10... Step: 500... Loss: 1.8667... Val Loss: 1.8264\n",
            "Epoch: 4/10... Step: 510... Loss: 1.8413... Val Loss: 1.8124\n",
            "Epoch: 4/10... Step: 520... Loss: 1.8535... Val Loss: 1.8039\n",
            "Epoch: 4/10... Step: 530... Loss: 1.8079... Val Loss: 1.7936\n",
            "Epoch: 4/10... Step: 540... Loss: 1.7833... Val Loss: 1.7871\n",
            "Epoch: 4/10... Step: 550... Loss: 1.8242... Val Loss: 1.7709\n",
            "Epoch: 5/10... Step: 560... Loss: 1.7837... Val Loss: 1.7629\n",
            "Epoch: 5/10... Step: 570... Loss: 1.7745... Val Loss: 1.7520\n",
            "Epoch: 5/10... Step: 580... Loss: 1.7543... Val Loss: 1.7404\n",
            "Epoch: 5/10... Step: 590... Loss: 1.7550... Val Loss: 1.7291\n",
            "Epoch: 5/10... Step: 600... Loss: 1.7336... Val Loss: 1.7232\n",
            "Epoch: 5/10... Step: 610... Loss: 1.7270... Val Loss: 1.7124\n",
            "Epoch: 5/10... Step: 620... Loss: 1.7289... Val Loss: 1.7082\n",
            "Epoch: 5/10... Step: 630... Loss: 1.7374... Val Loss: 1.7010\n",
            "Epoch: 5/10... Step: 640... Loss: 1.7049... Val Loss: 1.6944\n",
            "Epoch: 5/10... Step: 650... Loss: 1.6920... Val Loss: 1.6866\n",
            "Epoch: 5/10... Step: 660... Loss: 1.6714... Val Loss: 1.6798\n",
            "Epoch: 5/10... Step: 670... Loss: 1.7008... Val Loss: 1.6747\n",
            "Epoch: 5/10... Step: 680... Loss: 1.7066... Val Loss: 1.6645\n",
            "Epoch: 5/10... Step: 690... Loss: 1.6765... Val Loss: 1.6577\n",
            "Epoch: 6/10... Step: 700... Loss: 1.6696... Val Loss: 1.6551\n",
            "Epoch: 6/10... Step: 710... Loss: 1.6590... Val Loss: 1.6451\n",
            "Epoch: 6/10... Step: 720... Loss: 1.6327... Val Loss: 1.6379\n",
            "Epoch: 6/10... Step: 730... Loss: 1.6504... Val Loss: 1.6326\n",
            "Epoch: 6/10... Step: 740... Loss: 1.6250... Val Loss: 1.6259\n",
            "Epoch: 6/10... Step: 750... Loss: 1.6118... Val Loss: 1.6200\n",
            "Epoch: 6/10... Step: 760... Loss: 1.6448... Val Loss: 1.6162\n",
            "Epoch: 6/10... Step: 770... Loss: 1.6317... Val Loss: 1.6124\n",
            "Epoch: 6/10... Step: 780... Loss: 1.6101... Val Loss: 1.6054\n",
            "Epoch: 6/10... Step: 790... Loss: 1.6062... Val Loss: 1.6019\n",
            "Epoch: 6/10... Step: 800... Loss: 1.6163... Val Loss: 1.5975\n",
            "Epoch: 6/10... Step: 810... Loss: 1.6010... Val Loss: 1.5948\n",
            "Epoch: 6/10... Step: 820... Loss: 1.5652... Val Loss: 1.5851\n",
            "Epoch: 6/10... Step: 830... Loss: 1.6082... Val Loss: 1.5792\n",
            "Epoch: 7/10... Step: 840... Loss: 1.5647... Val Loss: 1.5770\n",
            "Epoch: 7/10... Step: 850... Loss: 1.5737... Val Loss: 1.5685\n",
            "Epoch: 7/10... Step: 860... Loss: 1.5684... Val Loss: 1.5640\n",
            "Epoch: 7/10... Step: 870... Loss: 1.5783... Val Loss: 1.5624\n",
            "Epoch: 7/10... Step: 880... Loss: 1.5707... Val Loss: 1.5570\n",
            "Epoch: 7/10... Step: 890... Loss: 1.5636... Val Loss: 1.5527\n",
            "Epoch: 7/10... Step: 900... Loss: 1.5561... Val Loss: 1.5485\n",
            "Epoch: 7/10... Step: 910... Loss: 1.5249... Val Loss: 1.5491\n",
            "Epoch: 7/10... Step: 920... Loss: 1.5435... Val Loss: 1.5432\n",
            "Epoch: 7/10... Step: 930... Loss: 1.5295... Val Loss: 1.5376\n",
            "Epoch: 7/10... Step: 940... Loss: 1.5382... Val Loss: 1.5375\n",
            "Epoch: 7/10... Step: 950... Loss: 1.5377... Val Loss: 1.5290\n",
            "Epoch: 7/10... Step: 960... Loss: 1.5396... Val Loss: 1.5249\n",
            "Epoch: 7/10... Step: 970... Loss: 1.5517... Val Loss: 1.5232\n",
            "Epoch: 8/10... Step: 980... Loss: 1.5249... Val Loss: 1.5198\n",
            "Epoch: 8/10... Step: 990... Loss: 1.5225... Val Loss: 1.5126\n",
            "Epoch: 8/10... Step: 1000... Loss: 1.5091... Val Loss: 1.5102\n",
            "Epoch: 8/10... Step: 1010... Loss: 1.5463... Val Loss: 1.5051\n",
            "Epoch: 8/10... Step: 1020... Loss: 1.5182... Val Loss: 1.5061\n",
            "Epoch: 8/10... Step: 1030... Loss: 1.5050... Val Loss: 1.5005\n",
            "Epoch: 8/10... Step: 1040... Loss: 1.5094... Val Loss: 1.4961\n",
            "Epoch: 8/10... Step: 1050... Loss: 1.4994... Val Loss: 1.4989\n",
            "Epoch: 8/10... Step: 1060... Loss: 1.4972... Val Loss: 1.4942\n",
            "Epoch: 8/10... Step: 1070... Loss: 1.5019... Val Loss: 1.4890\n",
            "Epoch: 8/10... Step: 1080... Loss: 1.5013... Val Loss: 1.4871\n",
            "Epoch: 8/10... Step: 1090... Loss: 1.4807... Val Loss: 1.4819\n",
            "Epoch: 8/10... Step: 1100... Loss: 1.4752... Val Loss: 1.4805\n",
            "Epoch: 8/10... Step: 1110... Loss: 1.4817... Val Loss: 1.4790\n",
            "Epoch: 9/10... Step: 1120... Loss: 1.4901... Val Loss: 1.4740\n",
            "Epoch: 9/10... Step: 1130... Loss: 1.4797... Val Loss: 1.4711\n",
            "Epoch: 9/10... Step: 1140... Loss: 1.4805... Val Loss: 1.4661\n",
            "Epoch: 9/10... Step: 1150... Loss: 1.4962... Val Loss: 1.4667\n",
            "Epoch: 9/10... Step: 1160... Loss: 1.4493... Val Loss: 1.4660\n",
            "Epoch: 9/10... Step: 1170... Loss: 1.4684... Val Loss: 1.4594\n",
            "Epoch: 9/10... Step: 1180... Loss: 1.4600... Val Loss: 1.4569\n",
            "Epoch: 9/10... Step: 1190... Loss: 1.4861... Val Loss: 1.4583\n",
            "Epoch: 9/10... Step: 1200... Loss: 1.4333... Val Loss: 1.4544\n",
            "Epoch: 9/10... Step: 1210... Loss: 1.4493... Val Loss: 1.4510\n",
            "Epoch: 9/10... Step: 1220... Loss: 1.4479... Val Loss: 1.4484\n",
            "Epoch: 9/10... Step: 1230... Loss: 1.4273... Val Loss: 1.4478\n",
            "Epoch: 9/10... Step: 1240... Loss: 1.4338... Val Loss: 1.4430\n",
            "Epoch: 9/10... Step: 1250... Loss: 1.4393... Val Loss: 1.4426\n",
            "Epoch: 10/10... Step: 1260... Loss: 1.4479... Val Loss: 1.4386\n",
            "Epoch: 10/10... Step: 1270... Loss: 1.4462... Val Loss: 1.4365\n",
            "Epoch: 10/10... Step: 1280... Loss: 1.4487... Val Loss: 1.4328\n",
            "Epoch: 10/10... Step: 1290... Loss: 1.4391... Val Loss: 1.4344\n",
            "Epoch: 10/10... Step: 1300... Loss: 1.4240... Val Loss: 1.4299\n",
            "Epoch: 10/10... Step: 1310... Loss: 1.4391... Val Loss: 1.4277\n",
            "Epoch: 10/10... Step: 1320... Loss: 1.3994... Val Loss: 1.4272\n",
            "Epoch: 10/10... Step: 1330... Loss: 1.4158... Val Loss: 1.4274\n",
            "Epoch: 10/10... Step: 1340... Loss: 1.4061... Val Loss: 1.4231\n",
            "Epoch: 10/10... Step: 1350... Loss: 1.3930... Val Loss: 1.4226\n",
            "Epoch: 10/10... Step: 1360... Loss: 1.3969... Val Loss: 1.4198\n",
            "Epoch: 10/10... Step: 1370... Loss: 1.3948... Val Loss: 1.4192\n",
            "Epoch: 10/10... Step: 1380... Loss: 1.4349... Val Loss: 1.4168\n",
            "Epoch: 10/10... Step: 1390... Loss: 1.4346... Val Loss: 1.4132\n"
          ],
          "name": "stdout"
        }
      ]
    },
    {
      "metadata": {
        "id": "9pKe_CGGh9TJ",
        "colab_type": "text"
      },
      "cell_type": "markdown",
      "source": [
        "## Getting the best model\n",
        "\n",
        "To set your hyperparameters to get the best performance, you'll want to watch the training and validation losses. If your training loss is much lower than the validation loss, you're overfitting. Increase regularization (more dropout) or use a smaller network. If the training and validation losses are close, you're underfitting so you can increase the size of the network."
      ]
    },
    {
      "metadata": {
        "id": "0ORsTI_Ah9TJ",
        "colab_type": "text"
      },
      "cell_type": "markdown",
      "source": [
        "## Hyperparameters\n",
        "\n",
        "Here are the hyperparameters for the network.\n",
        "\n",
        "In defining the model:\n",
        "* `n_hidden` - The number of units in the hidden layers.\n",
        "* `n_layers` - Number of hidden LSTM layers to use.\n",
        "\n",
        "We assume that dropout probability and learning rate will be kept at the default, in this example.\n",
        "\n",
        "And in training:\n",
        "* `batch_size` - Number of sequences running through the network in one pass.\n",
        "* `seq_length` - Number of characters in the sequence the network is trained on. Larger is better typically, the network will learn more long range dependencies. But it takes longer to train. 100 is typically a good number here.\n",
        "* `lr` - Learning rate for training\n",
        "\n",
        "Here's some good advice from Andrej Karpathy on training the network. I'm going to copy it in here for your benefit, but also link to [where it originally came from](https://github.com/karpathy/char-rnn#tips-and-tricks).\n",
        "\n",
        "> ## Tips and Tricks\n",
        "\n",
        ">### Monitoring Validation Loss vs. Training Loss\n",
        ">If you're somewhat new to Machine Learning or Neural Networks it can take a bit of expertise to get good models. The most important quantity to keep track of is the difference between your training loss (printed during training) and the validation loss (printed once in a while when the RNN is run on the validation data (by default every 1000 iterations)). In particular:\n",
        "\n",
        "> - If your training loss is much lower than validation loss then this means the network might be **overfitting**. Solutions to this are to decrease your network size, or to increase dropout. For example you could try dropout of 0.5 and so on.\n",
        "> - If your training/validation loss are about equal then your model is **underfitting**. Increase the size of your model (either number of layers or the raw number of neurons per layer)\n",
        "\n",
        "> ### Approximate number of parameters\n",
        "\n",
        "> The two most important parameters that control the model are `n_hidden` and `n_layers`. I would advise that you always use `n_layers` of either 2/3. The `n_hidden` can be adjusted based on how much data you have. The two important quantities to keep track of here are:\n",
        "\n",
        "> - The number of parameters in your model. This is printed when you start training.\n",
        "> - The size of your dataset. 1MB file is approximately 1 million characters.\n",
        "\n",
        ">These two should be about the same order of magnitude. It's a little tricky to tell. Here are some examples:\n",
        "\n",
        "> - I have a 100MB dataset and I'm using the default parameter settings (which currently print 150K parameters). My data size is significantly larger (100 mil >> 0.15 mil), so I expect to heavily underfit. I am thinking I can comfortably afford to make `n_hidden` larger.\n",
        "> - I have a 10MB dataset and running a 10 million parameter model. I'm slightly nervous and I'm carefully monitoring my validation loss. If it's larger than my training loss then I may want to try to increase dropout a bit and see if that helps the validation loss.\n",
        "\n",
        "> ### Best models strategy\n",
        "\n",
        ">The winning strategy to obtaining very good models (if you have the compute time) is to always err on making the network larger (as large as you're willing to wait for it to compute) and then try different dropout values (between 0,1). Whatever model has the best validation performance (the loss, written in the checkpoint filename, low is good) is the one you should use in the end.\n",
        "\n",
        ">It is very common in deep learning to run many different models with many different hyperparameter settings, and in the end take whatever checkpoint gave the best validation performance.\n",
        "\n",
        ">By the way, the size of your training and validation splits are also parameters. Make sure you have a decent amount of data in your validation set or otherwise the validation performance will be noisy and not very informative."
      ]
    },
    {
      "metadata": {
        "id": "e5IlJBbfh9TL",
        "colab_type": "text"
      },
      "cell_type": "markdown",
      "source": [
        "## Checkpoint\n",
        "\n",
        "After training, we'll save the model so we can load it again later if we need too. Here I'm saving the parameters needed to create the same architecture, the hidden layer hyperparameters and the text characters."
      ]
    },
    {
      "metadata": {
        "id": "gIDDpSzqh9TL",
        "colab_type": "code",
        "colab": {}
      },
      "cell_type": "code",
      "source": [
        "# change the name, for saving multiple files\n",
        "model_name = 'rnn_x_epoch.net'\n",
        "\n",
        "checkpoint = {'n_hidden': net.n_hidden,\n",
        "              'n_layers': net.n_layers,\n",
        "              'state_dict': net.state_dict(),\n",
        "              'tokens': net.chars}\n",
        "\n",
        "with open(model_name, 'wb') as f:\n",
        "    torch.save(checkpoint, f)"
      ],
      "execution_count": 0,
      "outputs": []
    },
    {
      "metadata": {
        "id": "KoXj8OGsh9TN",
        "colab_type": "text"
      },
      "cell_type": "markdown",
      "source": [
        "---\n",
        "## Making Predictions\n",
        "\n",
        "Now that the model is trained, we'll want to sample from it and make predictions about next characters! To sample, we pass in a character and have the network predict the next character. Then we take that character, pass it back in, and get another predicted character. Just keep doing this and you'll generate a bunch of text!\n",
        "\n",
        "### A note on the `predict`  function\n",
        "\n",
        "The output of our RNN is from a fully-connected layer and it outputs a **distribution of next-character scores**.\n",
        "\n",
        "> To actually get the next character, we apply a softmax function, which gives us a *probability* distribution that we can then sample to predict the next character.\n",
        "\n",
        "### Top K sampling\n",
        "\n",
        "Our predictions come from a categorical probability distribution over all the possible characters. We can make the sample text and make it more reasonable to handle (with less variables) by only considering some $K$ most probable characters. This will prevent the network from giving us completely absurd characters while allowing it to introduce some noise and randomness into the sampled text. Read more about [topk, here](https://pytorch.org/docs/stable/torch.html#torch.topk).\n"
      ]
    },
    {
      "metadata": {
        "id": "n1ASXeclh9TO",
        "colab_type": "code",
        "colab": {}
      },
      "cell_type": "code",
      "source": [
        "def predict(net, char, h=None, top_k=None):\n",
        "        ''' Given a character, predict the next character.\n",
        "            Returns the predicted character and the hidden state.\n",
        "        '''\n",
        "        \n",
        "        # tensor inputs\n",
        "        x = np.array([[net.char2int[char]]])\n",
        "        x = one_hot_encode(x, len(net.chars))\n",
        "        inputs = torch.from_numpy(x)\n",
        "        \n",
        "        if(train_on_gpu):\n",
        "            inputs = inputs.cuda()\n",
        "        \n",
        "        # detach hidden state from history\n",
        "        h = tuple([each.data for each in h])\n",
        "        # get the output of the model\n",
        "        out, h = net(inputs, h)\n",
        "\n",
        "        # get the character probabilities\n",
        "        p = F.softmax(out, dim=1).data\n",
        "        if(train_on_gpu):\n",
        "            p = p.cpu() # move to cpu\n",
        "        \n",
        "        # get top characters\n",
        "        if top_k is None:\n",
        "            top_ch = np.arange(len(net.chars))\n",
        "        else:\n",
        "            p, top_ch = p.topk(top_k)\n",
        "            top_ch = top_ch.numpy().squeeze()\n",
        "        \n",
        "        # select the likely next character with some element of randomness\n",
        "        p = p.numpy().squeeze()\n",
        "        char = np.random.choice(top_ch, p=p/p.sum())\n",
        "        \n",
        "        # return the encoded value of the predicted char and the hidden state\n",
        "        return net.int2char[char], h"
      ],
      "execution_count": 0,
      "outputs": []
    },
    {
      "metadata": {
        "id": "JKnlVvklh9TQ",
        "colab_type": "text"
      },
      "cell_type": "markdown",
      "source": [
        "### Priming and generating text \n",
        "\n",
        "Typically you'll want to prime the network so you can build up a hidden state. Otherwise the network will start out generating characters at random. In general the first bunch of characters will be a little rough since it hasn't built up a long history of characters to predict from."
      ]
    },
    {
      "metadata": {
        "id": "H9oju4Rsh9TR",
        "colab_type": "code",
        "colab": {}
      },
      "cell_type": "code",
      "source": [
        "def sample(net, size, prime='The', top_k=None):\n",
        "        \n",
        "    if(train_on_gpu):\n",
        "        net.cuda()\n",
        "    else:\n",
        "        net.cpu()\n",
        "    \n",
        "    net.eval() # eval mode\n",
        "    \n",
        "    # First off, run through the prime characters\n",
        "    chars = [ch for ch in prime]\n",
        "    h = net.init_hidden(1)\n",
        "    for ch in prime:\n",
        "        char, h = predict(net, ch, h, top_k=top_k)\n",
        "\n",
        "    chars.append(char)\n",
        "    \n",
        "    # Now pass in the previous character and get a new one\n",
        "    for ii in range(size):\n",
        "        char, h = predict(net, chars[-1], h, top_k=top_k)\n",
        "        chars.append(char)\n",
        "\n",
        "    return ''.join(chars)"
      ],
      "execution_count": 0,
      "outputs": []
    },
    {
      "metadata": {
        "id": "-JTDeu8ph9TT",
        "colab_type": "code",
        "colab": {
          "base_uri": "https://localhost:8080/",
          "height": 272
        },
        "outputId": "93d7b98c-84a5-468d-8139-d3c309f5843b"
      },
      "cell_type": "code",
      "source": [
        "print(sample(net, 1000, prime='position', top_k=5))"
      ],
      "execution_count": 21,
      "outputs": [
        {
          "output_type": "stream",
          "text": [
            "position\n",
            "of her\n",
            "expression in his solden walk to sead as soment, his face there the same wife and he fell to see on her forgen to him\n",
            "with his hands with the foreshem.\n",
            "And a mistaken of the princhss, and the coult of the moth and his heart he were to be\n",
            "a fire of shimes, when the minite of the prancess as he was doon, as he hundendy. All which\n",
            "she stopped out in the five\n",
            "warrites. And he had those only a children, and the carriage, and a side, that, stidle and the marther and a princes, she said them through her\n",
            "train, the serence at the such as had the suctess and at her say the parter of\n",
            "his hand to suppose it was to the sumoldy winho offering a cantrief ant all of the same and hansesself.\n",
            "\n",
            "\"Well, what immoding, we have a marriage!\" said As taking. He would be an endicailly to see\n",
            "it with the percestable\n",
            "carch and saw it to the strangs something and the secrutien with show out of\n",
            "the same only with a looking, as he will be so immoding his secrits; whine he heard her horses on the classed arro\n"
          ],
          "name": "stdout"
        }
      ]
    },
    {
      "metadata": {
        "id": "SKTWKc5Dh9TY",
        "colab_type": "text"
      },
      "cell_type": "markdown",
      "source": [
        "## Loading a checkpoint"
      ]
    },
    {
      "metadata": {
        "id": "uXJc6lHMh9Ta",
        "colab_type": "code",
        "colab": {}
      },
      "cell_type": "code",
      "source": [
        "# Here we have loaded in a model that trained over 20 epochs `rnn_20_epoch.net`\n",
        "with open('rnn_x_epoch.net', 'rb') as f:\n",
        "    checkpoint = torch.load(f)\n",
        "    \n",
        "loaded = CharRNN(checkpoint['tokens'], n_hidden=checkpoint['n_hidden'], n_layers=checkpoint['n_layers'])\n",
        "loaded.load_state_dict(checkpoint['state_dict'])"
      ],
      "execution_count": 0,
      "outputs": []
    },
    {
      "metadata": {
        "id": "5OtMOJ86h9Td",
        "colab_type": "code",
        "colab": {
          "base_uri": "https://localhost:8080/",
          "height": 547
        },
        "outputId": "72b8978f-69f8-4674-d864-1577a5895c04"
      },
      "cell_type": "code",
      "source": [
        "# Sample using a loaded model\n",
        "print(sample(loaded, 2000, top_k=5, prime=\"And Levin said\"))"
      ],
      "execution_count": 23,
      "outputs": [
        {
          "output_type": "stream",
          "text": [
            "And Levin said\n",
            "to him. \"Women's a consitted!\" he said to herself. \"They's it as to must be a sunger of any moming an offen as they say on the day to his sere,,\"\n",
            "said the starding\n",
            "to had such a still as an end of shoulder some time, took\n",
            "and that there ame to the princess and at this fach of the second sense im and\n",
            "at an arstart.\n",
            "\n",
            "\"Talk in a tablit condiciar ang menting in it were arried about it. What will stope! You want to mean. That your friends of a mear and seem the moment a don as something to sold your.\"\n",
            "\n",
            "\"I come at that you was a position,\" she said,\n",
            "satidly, and to hear and\n",
            "a conception and there seemed,\n",
            "\"I\n",
            "women in the mother's a crutines. And and I have seemed to the class...\"\n",
            "\n",
            "\"All of them are new first! The carried at has say, as a sont our feeling in the from one of her man and the strigg with seem some feeling\n",
            "of the first since in the peasance it seas on her attoching how imprementing, and I did not told mo, I am to the family towards the same to her for the stands of hers like. And I sook all at the position of all her and the friends\n",
            "to barse of answer, they so where have the proncessed that is now the passious at the part is to the classed time\n",
            "of a sense. Bet out that the sunest a chuld to be the controus of man of her hands, and they houllers. But the messor who had an interman serving in shations of\n",
            "a marst to be something that year inteass,\" had taken her all tark, work a cold-clanger that stord an and the\n",
            "carred sid to such him to such to settles to\n",
            "see an thair and\n",
            "heart whished that ther his own satherite.\n",
            "\n",
            "\"What was so in the country to\n",
            "some mind,\" she said, because, assenting the secest the contrant, \"a meanor at once to terl of the mude, and and in commusicitition. What were\n",
            "stoor as asky and had been that that should never humbing. And is so\n",
            "conscoor and\n",
            "his\n",
            "brathing attertion, and they wanned, but to be said,\" she said and went into an election of the poster. \"I'm always told it!\" said Livia, and and something would not to be to him. He saw she came \n"
          ],
          "name": "stdout"
        }
      ]
    },
    {
      "metadata": {
        "id": "KGbkDTcGh9Tg",
        "colab_type": "code",
        "colab": {}
      },
      "cell_type": "code",
      "source": [
        ""
      ],
      "execution_count": 0,
      "outputs": []
    }
  ]
}