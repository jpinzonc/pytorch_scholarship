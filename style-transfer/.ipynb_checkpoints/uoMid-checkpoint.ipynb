{
 "cells": [
  {
   "cell_type": "code",
   "execution_count": 6,
   "metadata": {},
   "outputs": [],
   "source": [
    "import random\n",
    "import pandas as pd\n",
    "import math\n",
    "#from mpmath import *\n",
    "#mp.dps=300\n",
    "#mp.dps=10\n",
    "import numpy as np\n",
    "my_randoms = [random.randrange(1, 1001, 1) for _ in range(20)]\n",
    "no_vals = [np.nan for _ in range(len(my_randoms))]"
   ]
  },
  {
   "cell_type": "code",
   "execution_count": 9,
   "metadata": {},
   "outputs": [
    {
     "name": "stdout",
     "output_type": "stream",
     "text": [
      "[0.01, 0.5] 50.0 0.9803921568627451\n",
      "[1, 20] 20.0 0.9523809523809523\n",
      "[9, 18] 2.0 0.6666666666666667\n",
      "[10, 12.33] 1.233 0.5521719659650695\n",
      "[9.99, 1999] 200.1001001001001 0.9950273520525239\n",
      "[1.01, 10] 9.900990099009901 0.9082652134423251\n",
      "[900, 1200] 1.3333333333333333 0.5714285714285714\n",
      "[0.01, 12] 1200.0 0.9991673605328892\n",
      "[0.01, 1000] 100000.0 0.999990000099999\n"
     ]
    }
   ],
   "source": [
    "l = [[0.01, 0.5],[1,20], [9, 18],[10,12.33],[9.99, 1999], [1.01,10], [900, 1200], [0.01, 12], [0.01, 1000]]\n",
    "for item in l:\n",
    "    diff_ = (max(item) /min(item))\n",
    "    item2 = 1-(1/(1+diff_))#[1 - (1/(1+x)) for x in item]\n",
    "    print(item, diff_, item2)#,'\\t', item2,  '\\t', max(item2) - min(item2))\n",
    "    #print(softmax(item2))"
   ]
  },
  {
   "cell_type": "code",
   "execution_count": 2,
   "metadata": {},
   "outputs": [
    {
     "data": {
      "text/plain": [
       "[968,\n",
       " 313,\n",
       " 32,\n",
       " 440,\n",
       " 712,\n",
       " 90,\n",
       " 69,\n",
       " 120,\n",
       " 31,\n",
       " 331,\n",
       " 392,\n",
       " 725,\n",
       " 880,\n",
       " 245,\n",
       " 291,\n",
       " 302,\n",
       " 50,\n",
       " 211,\n",
       " 984,\n",
       " 733]"
      ]
     },
     "execution_count": 2,
     "metadata": {},
     "output_type": "execute_result"
    }
   ],
   "source": [
    "my_randoms"
   ]
  },
  {
   "cell_type": "code",
   "execution_count": 3,
   "metadata": {},
   "outputs": [
    {
     "data": {
      "text/plain": [
       "[nan,\n",
       " nan,\n",
       " nan,\n",
       " nan,\n",
       " nan,\n",
       " nan,\n",
       " nan,\n",
       " nan,\n",
       " nan,\n",
       " nan,\n",
       " nan,\n",
       " nan,\n",
       " nan,\n",
       " nan,\n",
       " nan,\n",
       " nan,\n",
       " nan,\n",
       " nan,\n",
       " nan,\n",
       " nan]"
      ]
     },
     "execution_count": 3,
     "metadata": {},
     "output_type": "execute_result"
    }
   ],
   "source": [
    "no_vals"
   ]
  },
  {
   "cell_type": "code",
   "execution_count": 4,
   "metadata": {},
   "outputs": [
    {
     "ename": "NameError",
     "evalue": "name 'exp' is not defined",
     "output_type": "error",
     "traceback": [
      "\u001b[0;31m---------------------------------------------------------------------------\u001b[0m",
      "\u001b[0;31mNameError\u001b[0m                                 Traceback (most recent call last)",
      "\u001b[0;32m<ipython-input-4-7b610db1e62f>\u001b[0m in \u001b[0;36m<module>\u001b[0;34m()\u001b[0m\n\u001b[0;32m----> 1\u001b[0;31m \u001b[0mprint\u001b[0m \u001b[0;34m(\u001b[0m\u001b[0mexp\u001b[0m\u001b[0;34m(\u001b[0m\u001b[0;36m1000000\u001b[0m\u001b[0;34m)\u001b[0m\u001b[0;34m)\u001b[0m\u001b[0;34m\u001b[0m\u001b[0m\n\u001b[0m",
      "\u001b[0;31mNameError\u001b[0m: name 'exp' is not defined"
     ]
    }
   ],
   "source": [
    "print (exp(1000000))"
   ]
  },
  {
   "cell_type": "code",
   "execution_count": null,
   "metadata": {},
   "outputs": [],
   "source": [
    "def softmax(L):\n",
    "    df = pd.DataFrame(L, columns = ['Number'])\n",
    "    no_vals = [np.nan for _ in range(len(L))]\n",
    "    df.loc[:,'soft_max'] = no_vals\n",
    "    newL = []\n",
    "    exp_L = [ (exp(x)) for x in L ]\n",
    "    for i, numb in enumerate(exp_L):\n",
    "        s_numb = numb / sum(exp_L)\n",
    "        df.loc[:,'soft_max'] = np.where(df.Number == L[i],s_numb, df.soft_max)\n",
    "    df.loc[:,'soft_max'] = df.soft_max#.astype(np.float64)\n",
    "    return df"
   ]
  },
  {
   "cell_type": "code",
   "execution_count": null,
   "metadata": {},
   "outputs": [],
   "source": [
    "l1 = [0.1, 0.5, 1, 5, 10, 92, 101, 990, 1200, 100000 ]\n",
    "[exp(np.tanh(x))  for x in l1]\n",
    "[1 - (1/(1+x)) for x in l1]"
   ]
  },
  {
   "cell_type": "code",
   "execution_count": null,
   "metadata": {},
   "outputs": [],
   "source": [
    "print(1 - (1/(1+10)), 1 - (1/(1+20)))"
   ]
  },
  {
   "cell_type": "code",
   "execution_count": null,
   "metadata": {},
   "outputs": [],
   "source": [
    "l = [[0.01, 0.5],[1,20],[9.99, 1999], [1.01,10], [900, 1200]]\n",
    "for item in l:\n",
    "    print(item)\n",
    "    min_ = min(item)\n",
    "    item2 = [x - min_ for x in item]\n",
    "#    [1 - (1/(1+x)) for x in item]\n",
    "\n",
    "    diff_ = (max(item) - (max(item2) - min(item2)))/(max(item2) - min(item2))\n",
    "    print(1-(1/(1+diff_)))\n",
    "    #print(item2)\n",
    "    #print(softmax(item2))"
   ]
  },
  {
   "cell_type": "code",
   "execution_count": null,
   "metadata": {},
   "outputs": [],
   "source": [
    "pd.Series(softmax(L)).to_frame()"
   ]
  },
  {
   "cell_type": "code",
   "execution_count": null,
   "metadata": {},
   "outputs": [],
   "source": [
    "softmax(my_randoms).soft_max.sum()"
   ]
  },
  {
   "cell_type": "code",
   "execution_count": null,
   "metadata": {},
   "outputs": [],
   "source": [
    "df = pd.DataFrame()\n",
    "df.loc[:,'random_n'] = pd.Series(my_randoms)\n",
    "\n",
    "#df.loc[:,'sig'] = 1/(1 + np.exp(-df['random_n']))\n",
    "df.loc[:,'exp_'] = np.exp(df['random_n'])\n",
    "#df.loc[:,'sig1'] = 1 / (1 + math.exp(-df.random_n))\n",
    "print(df.random_n.sum())\n",
    "df.loc[:,'soft_'] = np.exp(df.random_n) #/ np.sum(np.exp(df.random_n), axis=0)#np.exp(df.random_n) / float(sum(np.exp(df.random_n.sum())))\n",
    "df#.sort_values(by='soft_')\n",
    "df.soft_.sum()"
   ]
  },
  {
   "cell_type": "code",
   "execution_count": null,
   "metadata": {},
   "outputs": [],
   "source": [
    "math.exp(600)\n",
    "#sigmoid = lambda x: 1 / (1 + math.exp(-x))"
   ]
  },
  {
   "cell_type": "code",
   "execution_count": null,
   "metadata": {},
   "outputs": [],
   "source": []
  },
  {
   "cell_type": "code",
   "execution_count": null,
   "metadata": {},
   "outputs": [],
   "source": [
    "for x in my_randoms:\n",
    "    exp_ = 1/(1+math.exp(-x))\n",
    "    print(x, exp_)"
   ]
  },
  {
   "cell_type": "code",
   "execution_count": null,
   "metadata": {},
   "outputs": [],
   "source": []
  }
 ],
 "metadata": {
  "kernelspec": {
   "display_name": "Python 3",
   "language": "python",
   "name": "python3"
  },
  "language_info": {
   "codemirror_mode": {
    "name": "ipython",
    "version": 3
   },
   "file_extension": ".py",
   "mimetype": "text/x-python",
   "name": "python",
   "nbconvert_exporter": "python",
   "pygments_lexer": "ipython3",
   "version": "3.6.5"
  }
 },
 "nbformat": 4,
 "nbformat_minor": 2
}
